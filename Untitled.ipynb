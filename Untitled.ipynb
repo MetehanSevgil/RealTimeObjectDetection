{
 "cells": [
  {
   "cell_type": "code",
   "execution_count": 3,
   "id": "46254097-84d5-4b40-93f5-8e904107c705",
   "metadata": {},
   "outputs": [],
   "source": [
    "# !pip install opencv-python"
   ]
  },
  {
   "cell_type": "code",
   "execution_count": 4,
   "id": "11e89f59-4127-4216-a2c5-bce0c4cb3b41",
   "metadata": {},
   "outputs": [],
   "source": [
    "import cv2  # opencv kütüphanesi\n",
    "import os\n",
    "import time\n",
    "import uuid"
   ]
  },
  {
   "cell_type": "code",
   "execution_count": 5,
   "id": "9dbbd89c-1147-4eca-a2ec-e67d1b77c5be",
   "metadata": {},
   "outputs": [],
   "source": [
    "IMAGES_PATH = \"Tensorflow\\workspace\\images\\collactedimages\""
   ]
  },
  {
   "cell_type": "code",
   "execution_count": 6,
   "id": "90a4b73b-d113-404e-ad99-44428acce9b1",
   "metadata": {},
   "outputs": [],
   "source": [
    "labels = [\"hello\", \"thanks\", \"yes\", \"no\", \"iloveyou\"]\n",
    "number_imgs = 15"
   ]
  },
  {
   "cell_type": "code",
   "execution_count": 7,
   "id": "7931cdc7-aee3-4d0e-9f1a-556652cd83f9",
   "metadata": {},
   "outputs": [
    {
     "name": "stdout",
     "output_type": "stream",
     "text": [
      "Collected İmges for hello\n",
      "Collected İmges for thanks\n",
      "Collected İmges for yes\n",
      "Collected İmges for no\n",
      "Collected İmges for iloveyou\n"
     ]
    }
   ],
   "source": [
    "for label in labels:\n",
    "    !mkdir {\"Tensorflow\\workspace\\images\\collactedimages\\\\\" + label} \n",
    "    cap = cv2.VideoCapture(0)\n",
    "    print(\"Collected İmges for {}\".format(label))\n",
    "    time.sleep(5)\n",
    "    for imgnum in range(number_imgs):\n",
    "        ret,frame = cap.read()\n",
    "        imgname = os.path.join(IMAGES_PATH, label, label + '.' + ' {}.jpg'.format(str(uuid.uuid1())))\n",
    "        cv2.imwrite(imgname, frame)\n",
    "        cv2.imshow('frame', frame)\n",
    "        time.sleep(2)\n",
    "\n",
    "        if cv2.waitKey(1) & 0xFF == ord('q'):\n",
    "            break\n",
    "    cap.release()"
   ]
  },
  {
   "cell_type": "code",
   "execution_count": null,
   "id": "572fc86f-311c-4f07-8dca-72bf8c58956d",
   "metadata": {},
   "outputs": [],
   "source": []
  }
 ],
 "metadata": {
  "kernelspec": {
   "display_name": "Python 3 (ipykernel)",
   "language": "python",
   "name": "python3"
  },
  "language_info": {
   "codemirror_mode": {
    "name": "ipython",
    "version": 3
   },
   "file_extension": ".py",
   "mimetype": "text/x-python",
   "name": "python",
   "nbconvert_exporter": "python",
   "pygments_lexer": "ipython3",
   "version": "3.11.7"
  }
 },
 "nbformat": 4,
 "nbformat_minor": 5
}
